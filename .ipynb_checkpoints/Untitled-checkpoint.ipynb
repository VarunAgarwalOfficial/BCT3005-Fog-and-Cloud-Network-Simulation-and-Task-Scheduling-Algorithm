{
 "cells": [
  {
   "cell_type": "code",
   "execution_count": 1,
   "id": "5f94ccda",
   "metadata": {},
   "outputs": [],
   "source": [
    "import json"
   ]
  },
  {
   "cell_type": "code",
   "execution_count": 6,
   "id": "6790b464",
   "metadata": {},
   "outputs": [],
   "source": [
    "with open(\"data_p.json\" , \"r\") as f:\n",
    "    js = json.load(f)\n",
    "data = js[\"data\"]"
   ]
  },
  {
   "cell_type": "code",
   "execution_count": 7,
   "id": "f1230383",
   "metadata": {},
   "outputs": [],
   "source": [
    "hm = [0 for i in range(10)]\n",
    "hm_count = [0 for i in range(10)]\n",
    "\n",
    "for task in data:\n",
    "    hm[task[\"priority\"]] += task[\"total_time\"]\n",
    "    hm_count[task[\"priority\"]] += 1  \n",
    "\n",
    "avg_time = [0 for i in range(10)]\n",
    "for i in range(1,10):\n",
    "    avg_time[i] = hm[i] / hm_count[i]"
   ]
  },
  {
   "cell_type": "code",
   "execution_count": 8,
   "id": "631911ce",
   "metadata": {},
   "outputs": [
    {
     "data": {
      "text/plain": [
       "[0,\n",
       " 5.666874888452615,\n",
       " 5.677161152614728,\n",
       " 5.67977067977068,\n",
       " 5.666457173639792,\n",
       " 4.07672978551557,\n",
       " 4.059957956311123,\n",
       " 3.8878184928423516,\n",
       " 3.3618349619978285,\n",
       " 2.3287842297743286]"
      ]
     },
     "execution_count": 8,
     "metadata": {},
     "output_type": "execute_result"
    }
   ],
   "source": [
    "avg_time"
   ]
  },
  {
   "cell_type": "code",
   "execution_count": 14,
   "id": "34466c23",
   "metadata": {},
   "outputs": [],
   "source": [
    "import matplotlib.pyplot as plt\n",
    "from matplotlib import style\n",
    "\n",
    "\n",
    "plt.style.use('ggplot')"
   ]
  },
  {
   "cell_type": "code",
   "execution_count": 20,
   "id": "8c3957c2",
   "metadata": {
    "scrolled": true
   },
   "outputs": [
    {
     "data": {
      "text/plain": [
       "Text(0.5, 0, 'Priority')"
      ]
     },
     "execution_count": 20,
     "metadata": {},
     "output_type": "execute_result"
    },
    {
     "data": {
      "image/png": "[encoded data removed]",
      "text/plain": [
       "<Figure size 432x288 with 1 Axes>"
      ]
     },
     "metadata": {},
     "output_type": "display_data"
    }
   ],
   "source": [
    "plt.plot( [i for i in range(1,10)], avg_time[1:])\n",
    "plt.ylabel(\"Response Time (ms)\")\n",
    "plt.xlabel(\"Priority\")"
   ]
  },
  {
   "cell_type": "code",
   "execution_count": null,
   "id": "4e906af0",
   "metadata": {},
   "outputs": [],
   "source": []
  }
 ],
 "metadata": {
  "kernelspec": {
   "display_name": "Python 3 (ipykernel)",
   "language": "python",
   "name": "python3"
  },
  "language_info": {
   "codemirror_mode": {
    "name": "ipython",
    "version": 3
   },
   "file_extension": ".py",
   "mimetype": "text/x-python",
   "name": "python",
   "nbconvert_exporter": "python",
   "pygments_lexer": "ipython3",
   "version": "3.9.6"
  }
 },
 "nbformat": 4,
 "nbformat_minor": 5
}
